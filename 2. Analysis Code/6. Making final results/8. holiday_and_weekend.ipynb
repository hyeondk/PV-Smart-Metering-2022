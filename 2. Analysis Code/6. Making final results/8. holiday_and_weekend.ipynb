{
 "cells": [
  {
   "cell_type": "markdown",
   "id": "eed15cc7-eedf-4afc-b4a5-b6d6b183cafb",
   "metadata": {},
   "source": [
    "## **Code : Add variable - holiday, weekend**\n",
    "- Writer : Donghyeon Kim\n",
    "- Update : 2022.11.18.\n",
    "- 대상\n",
    "    1. 3kW Only Dataset\n",
    "    2. 3kW + 300W + 18kW Dataset(Total)"
   ]
  },
  {
   "cell_type": "markdown",
   "id": "23c0f184-7c89-4fa1-9419-2419e023ea80",
   "metadata": {},
   "source": [
    "<hr>"
   ]
  },
  {
   "cell_type": "markdown",
   "id": "a73b27a5-424b-4197-9ae1-c5b5201b9e00",
   "metadata": {},
   "source": [
    "## **Prior Settings**"
   ]
  },
  {
   "cell_type": "code",
   "execution_count": 1,
   "id": "bf858ce8-5964-4657-80b4-d20de1c66064",
   "metadata": {},
   "outputs": [],
   "source": [
    "# 라이브러리 설정\n",
    "import os\n",
    "import pandas as pd\n",
    "import numpy as np\n",
    "import openpyxl\n",
    "from datetime import datetime, date\n",
    "import holidays"
   ]
  },
  {
   "cell_type": "code",
   "execution_count": 2,
   "id": "8ef2843d-d49f-4307-8127-4a616800cac9",
   "metadata": {},
   "outputs": [],
   "source": [
    "# 사용자 함수 호출\n",
    "# get_project_root : 파일의 상위-상위 경로 호출\n",
    "from pack_utils import get_project_root"
   ]
  },
  {
   "cell_type": "markdown",
   "id": "8a03f6af-3b84-474f-9d1f-b2949452a16d",
   "metadata": {},
   "source": [
    "<hr>"
   ]
  },
  {
   "cell_type": "markdown",
   "id": "fd2feaa8-40af-4d55-84db-a82d2ce9c40c",
   "metadata": {},
   "source": [
    "## **Data : 3kW Only**"
   ]
  },
  {
   "cell_type": "markdown",
   "id": "5bde8beb-5d17-4408-8d0c-2462291c30f3",
   "metadata": {},
   "source": [
    "### 1. Rawdata"
   ]
  },
  {
   "cell_type": "code",
   "execution_count": 3,
   "id": "0430a87e-6bc7-4087-9eae-2742d0cd5b8b",
   "metadata": {},
   "outputs": [],
   "source": [
    "# All Data\n",
    "root = get_project_root()\n",
    "folder_root = os.path.join(root, 'data_final_keei')\n",
    "file_name = os.path.join(folder_root, 'Dataset Hours 20221118 3kW Only.xlsx')\n",
    "df_all_hour = pd.read_excel(file_name, sheet_name=0)\n",
    "\n",
    "# Filtering\n",
    "# (1) Using Solar\n",
    "df_all_hour_use = df_all_hour[df_all_hour.type == 'use']\n",
    "\n",
    "# (2) Not Using Solar\n",
    "df_all_hour_not = df_all_hour[df_all_hour.type == 'not']"
   ]
  },
  {
   "cell_type": "code",
   "execution_count": 4,
   "id": "dae3e91a-3cb3-4f85-b41c-e0ffb2e8b2da",
   "metadata": {},
   "outputs": [
    {
     "name": "stdout",
     "output_type": "stream",
     "text": [
      "<class 'pandas.core.frame.DataFrame'>\n",
      "RangeIndex: 225299 entries, 0 to 225298\n",
      "Data columns (total 27 columns):\n",
      " #   Column                  Non-Null Count   Dtype  \n",
      "---  ------                  --------------   -----  \n",
      " 0   가구번호                    225299 non-null  int64  \n",
      " 1   연도                      225299 non-null  int64  \n",
      " 2   월                       225299 non-null  int64  \n",
      " 3   일                       225299 non-null  int64  \n",
      " 4   시간                      225299 non-null  int64  \n",
      " 5   시간2                     225299 non-null  int64  \n",
      " 6   계절                      225299 non-null  object \n",
      " 7   설비용량(kW)                77148 non-null   object \n",
      " 8   발전량(kWh)                77148 non-null   float64\n",
      " 9   전력소비량(kWh)              225299 non-null  float64\n",
      " 10  수전전력량(kWh)              225299 non-null  float64\n",
      " 11  잉여전력량(kWh)              77148 non-null   float64\n",
      " 12  잉여전력량/발전량               77148 non-null   float64\n",
      " 13  자가소비율                   77148 non-null   float64\n",
      " 14  자가공급률                   77148 non-null   float64\n",
      " 15  temperature             225299 non-null  float64\n",
      " 16  uws_10m                 225299 non-null  float64\n",
      " 17  vws_10m                 225299 non-null  float64\n",
      " 18  ghi                     225299 non-null  float64\n",
      " 19  precipitation           225299 non-null  float64\n",
      " 20  relative_humidity_1p5m  225299 non-null  float64\n",
      " 21  specific_humidity_1p5m  225299 non-null  float64\n",
      " 22  id_hh                   225299 non-null  object \n",
      " 23  id_hs                   225299 non-null  object \n",
      " 24  ym                      225299 non-null  object \n",
      " 25  type                    225299 non-null  object \n",
      " 26  owner                   225299 non-null  object \n",
      "dtypes: float64(14), int64(6), object(7)\n",
      "memory usage: 46.4+ MB\n"
     ]
    }
   ],
   "source": [
    "df_all_hour.info()"
   ]
  },
  {
   "cell_type": "markdown",
   "id": "101857b2-2f13-4074-b75f-3c45bb4ad5c9",
   "metadata": {},
   "source": [
    "### 2. 시간평균"
   ]
  },
  {
   "cell_type": "code",
   "execution_count": 5,
   "id": "4070499a-33e6-48e7-a773-f875277ce2ef",
   "metadata": {},
   "outputs": [],
   "source": [
    "# Average Data\n",
    "root = get_project_root()\n",
    "folder_root = os.path.join(root, 'data_final_keei')\n",
    "file_name = os.path.join(folder_root, 'Dataset Hours 20221118 3kW Only.xlsx')\n",
    "df_avg_hour = pd.read_excel(file_name, sheet_name=1)"
   ]
  },
  {
   "cell_type": "code",
   "execution_count": 6,
   "id": "6278041e-0b75-4159-9451-7db3e08a2614",
   "metadata": {},
   "outputs": [
    {
     "name": "stdout",
     "output_type": "stream",
     "text": [
      "<class 'pandas.core.frame.DataFrame'>\n",
      "RangeIndex: 8760 entries, 0 to 8759\n",
      "Data columns (total 12 columns):\n",
      " #   Column  Non-Null Count  Dtype  \n",
      "---  ------  --------------  -----  \n",
      " 0   연도      8760 non-null   int64  \n",
      " 1   월       8760 non-null   int64  \n",
      " 2   일       8760 non-null   int64  \n",
      " 3   시간      8760 non-null   int64  \n",
      " 4   발전-미설치  0 non-null      float64\n",
      " 5   발전-설치   8760 non-null   float64\n",
      " 6   소비-미설치  8760 non-null   float64\n",
      " 7   소비-설치   8760 non-null   float64\n",
      " 8   수전-미설치  8760 non-null   float64\n",
      " 9   수전-설치   8760 non-null   float64\n",
      " 10  잉여-미설치  0 non-null      float64\n",
      " 11  잉여-설치   8760 non-null   float64\n",
      "dtypes: float64(8), int64(4)\n",
      "memory usage: 821.4 KB\n"
     ]
    }
   ],
   "source": [
    "df_avg_hour.info()"
   ]
  },
  {
   "cell_type": "markdown",
   "id": "43f2d44a-194a-437d-a574-6e0d5703265d",
   "metadata": {},
   "source": [
    "<hr>"
   ]
  },
  {
   "cell_type": "markdown",
   "id": "63a3dfc4-b07b-4c64-a2a8-09c5bc19c45c",
   "metadata": {},
   "source": [
    "### **주말 및 공휴일 체크 함수**"
   ]
  },
  {
   "cell_type": "markdown",
   "id": "2ff99fa9-cfb1-49f2-9358-b82f614f3297",
   "metadata": {},
   "source": [
    "#### 주말 여부 체크"
   ]
  },
  {
   "cell_type": "code",
   "execution_count": 7,
   "id": "caa31a1c-9dd4-4fb2-86c4-316942d79d3a",
   "metadata": {},
   "outputs": [],
   "source": [
    "def check_weekend(date):\n",
    "    weekday = date.weekday()\n",
    "    if weekday <= 4:\n",
    "        return False\n",
    "    if weekday > 4:\n",
    "        return True"
   ]
  },
  {
   "cell_type": "markdown",
   "id": "d9ecefe3-6774-412f-9154-83047117a1c7",
   "metadata": {},
   "source": [
    "#### 공휴일 여부 체크"
   ]
  },
  {
   "cell_type": "code",
   "execution_count": 8,
   "id": "55932a1d-cc0e-43e5-a952-ad3bfbb9dd12",
   "metadata": {},
   "outputs": [],
   "source": [
    "kr_holidays = holidays.KR()\n",
    "def check_holiday(date):\n",
    "    mydate = date\n",
    "    if mydate in kr_holidays:\n",
    "        return True\n",
    "    if mydate not in kr_holidays:\n",
    "        return False"
   ]
  },
  {
   "cell_type": "markdown",
   "id": "dad287f4-48c6-482b-9db1-98fe902e9076",
   "metadata": {},
   "source": [
    "<hr>"
   ]
  },
  {
   "cell_type": "markdown",
   "id": "ebd10775-cce7-40f5-b4f3-2a79dfd9a29e",
   "metadata": {},
   "source": [
    "### **주말 및 공휴일 추가**"
   ]
  },
  {
   "cell_type": "markdown",
   "id": "b9651cbf-7b29-471e-8efa-3b7b7d24e13f",
   "metadata": {},
   "source": [
    "#### 1. Rawdata : 사용자 별로 추가"
   ]
  },
  {
   "cell_type": "code",
   "execution_count": 14,
   "id": "612b586f-f577-4328-97fe-5b1105c7fa11",
   "metadata": {},
   "outputs": [],
   "source": [
    "user_name = df_all_hour.owner.unique().tolist()\n",
    "weekend_result = []\n",
    "holiday_result = []\n",
    "\n",
    "for i in range(len(user_name)):\n",
    "    df_all_hour_filter = df_all_hour[df_all_hour.owner == user_name[i]]\n",
    "    u_year = df_all_hour_filter['연도'].unique()\n",
    "    \n",
    "    for y in u_year:\n",
    "        day_filter1 = df_all_hour_filter[df_all_hour_filter['연도'] == y]\n",
    "        u_month = day_filter1['월'].unique()\n",
    "\n",
    "        for m in u_month:\n",
    "            day_filter2 = day_filter1[day_filter1['월'] == m]\n",
    "            u_day = day_filter2['일'].unique()\n",
    "\n",
    "            for d in u_day:\n",
    "                day_filter3 = day_filter2[day_filter2['일'] == d]\n",
    "                u_hour = day_filter3['시간'].unique()\n",
    "                \n",
    "                for h in u_hour:\n",
    "                    day_filter4 = day_filter3[day_filter3['시간'] == h]\n",
    "                    \n",
    "                    if check_weekend(date(y, m, d)) == True:\n",
    "                        weekend_result.append(1)\n",
    "                    else:\n",
    "                        weekend_result.append(0)\n",
    "                    \n",
    "                    if check_holiday(date(y, m, d)) == True:\n",
    "                        holiday_result.append(1)\n",
    "                    else:\n",
    "                        holiday_result.append(0)\n",
    "                        \n",
    "df_all_hour['weekend'] = weekend_result\n",
    "df_all_hour['holiday'] = holiday_result"
   ]
  },
  {
   "cell_type": "markdown",
   "id": "5032cf1d-2dcd-4653-a9c4-f33aa9b09af8",
   "metadata": {},
   "source": [
    "#### 2. 시간평균 : 날짜 별로 추가"
   ]
  },
  {
   "cell_type": "code",
   "execution_count": 16,
   "id": "7f59f72e-3055-49d5-b4ef-c3c818169ddb",
   "metadata": {},
   "outputs": [],
   "source": [
    "u_year = df_avg_hour['연도'].unique()\n",
    "weekend_result = []\n",
    "holiday_result = []\n",
    "    \n",
    "for y in u_year:\n",
    "    day_filter1 = df_avg_hour[df_avg_hour['연도'] == y]\n",
    "    u_month = day_filter1['월'].unique()\n",
    "\n",
    "    for m in u_month:\n",
    "        day_filter2 = day_filter1[day_filter1['월'] == m]\n",
    "        u_day = day_filter2['일'].unique()\n",
    "\n",
    "        for d in u_day:\n",
    "            day_filter3 = day_filter2[day_filter2['일'] == d]\n",
    "            u_hour = day_filter3['시간'].unique()\n",
    "                \n",
    "            for h in u_hour:\n",
    "                day_filter4 = day_filter3[day_filter3['시간'] == h]\n",
    "                    \n",
    "                if check_weekend(date(y, m, d)) == True:\n",
    "                    weekend_result.append(1)\n",
    "                else:\n",
    "                    weekend_result.append(0)\n",
    "                    \n",
    "                if check_holiday(date(y, m, d)) == True:\n",
    "                    holiday_result.append(1)\n",
    "                else:\n",
    "                    holiday_result.append(0)\n",
    "\n",
    "df_avg_hour['weekend'] = weekend_result\n",
    "df_avg_hour['holiday'] = holiday_result"
   ]
  },
  {
   "cell_type": "markdown",
   "id": "e38e4c82-08b5-4684-a59d-b651bc349b6c",
   "metadata": {},
   "source": [
    "<hr>"
   ]
  },
  {
   "cell_type": "markdown",
   "id": "da090653-e381-4c7a-9d05-a9a191ce729c",
   "metadata": {},
   "source": [
    "### **엑셀 저장**"
   ]
  },
  {
   "cell_type": "code",
   "execution_count": 18,
   "id": "7a0c01bc-f144-4687-830a-2200acb7be46",
   "metadata": {},
   "outputs": [],
   "source": [
    "xlsx_name = os.path.join(folder_root, '3kW only result1.xlsx')\n",
    "df_all_hour.to_excel(xlsx_name, sheet_name='RawData', index=False)"
   ]
  },
  {
   "cell_type": "code",
   "execution_count": 19,
   "id": "62f55841-02ea-4eca-aca6-d52892c8acad",
   "metadata": {},
   "outputs": [],
   "source": [
    "xlsx_name2 = os.path.join(folder_root, '3kW only result2.xlsx')\n",
    "df_avg_hour.to_excel(xlsx_name2, sheet_name='시간평균', index=False)"
   ]
  },
  {
   "cell_type": "markdown",
   "id": "8d3fc3fe-9703-420d-8631-c741e221d252",
   "metadata": {},
   "source": [
    "<hr>"
   ]
  },
  {
   "cell_type": "markdown",
   "id": "d9fa6dbf-ff91-4fd9-8bad-76fb08880490",
   "metadata": {},
   "source": [
    "## **Data : 3kW + 300W + 18kW**"
   ]
  },
  {
   "cell_type": "markdown",
   "id": "3c7f5592-49f9-4f10-a976-8a5f13549162",
   "metadata": {},
   "source": [
    "### 1. Rawdata"
   ]
  },
  {
   "cell_type": "code",
   "execution_count": 20,
   "id": "88d363cb-0e94-4e84-8b6d-0ef19d65122c",
   "metadata": {},
   "outputs": [],
   "source": [
    "# All Data\n",
    "root = get_project_root()\n",
    "folder_root = os.path.join(root, 'data_final_keei')\n",
    "file_name = os.path.join(folder_root, 'Datast Hours 20221118 3kW 300W 18kW.xlsx')\n",
    "df_all_hour = pd.read_excel(file_name, sheet_name=0)\n",
    "\n",
    "# Filtering\n",
    "# (1) Using Solar\n",
    "df_all_hour_use = df_all_hour[df_all_hour.type == 'use']\n",
    "\n",
    "# (2) Not Using Solar\n",
    "df_all_hour_not = df_all_hour[df_all_hour.type == 'not']"
   ]
  },
  {
   "cell_type": "code",
   "execution_count": 21,
   "id": "59fb0b27-7f71-4f1c-bed2-da48e450a0d8",
   "metadata": {},
   "outputs": [
    {
     "name": "stdout",
     "output_type": "stream",
     "text": [
      "<class 'pandas.core.frame.DataFrame'>\n",
      "RangeIndex: 242540 entries, 0 to 242539\n",
      "Data columns (total 26 columns):\n",
      " #   Column                  Non-Null Count   Dtype  \n",
      "---  ------                  --------------   -----  \n",
      " 0   가구번호                    242540 non-null  int64  \n",
      " 1   연도                      242540 non-null  int64  \n",
      " 2   월                       242540 non-null  int64  \n",
      " 3   일                       242540 non-null  int64  \n",
      " 4   시간                      242540 non-null  int64  \n",
      " 5   계절                      242540 non-null  object \n",
      " 6   설비용량(kW)                94389 non-null   object \n",
      " 7   발전량(kWh)                94389 non-null   float64\n",
      " 8   전력소비량(kWh)              242540 non-null  float64\n",
      " 9   수전전력량(kWh)              242540 non-null  float64\n",
      " 10  잉여전력량(kWh)              94389 non-null   float64\n",
      " 11  잉여전력량/발전량               94389 non-null   float64\n",
      " 12  자가소비율                   94389 non-null   float64\n",
      " 13  자가공급률                   94389 non-null   float64\n",
      " 14  temperature             242540 non-null  float64\n",
      " 15  uws_10m                 242540 non-null  float64\n",
      " 16  vws_10m                 242540 non-null  float64\n",
      " 17  ghi                     242540 non-null  float64\n",
      " 18  precipitation           242540 non-null  float64\n",
      " 19  relative_humidity_1p5m  242540 non-null  float64\n",
      " 20  specific_humidity_1p5m  242540 non-null  float64\n",
      " 21  id_hh                   242540 non-null  object \n",
      " 22  id_hs                   242540 non-null  object \n",
      " 23  ym                      242540 non-null  object \n",
      " 24  type                    242540 non-null  object \n",
      " 25  owner                   242540 non-null  object \n",
      "dtypes: float64(14), int64(5), object(7)\n",
      "memory usage: 48.1+ MB\n"
     ]
    }
   ],
   "source": [
    "df_all_hour.info()"
   ]
  },
  {
   "cell_type": "markdown",
   "id": "0c3c7f32-a0b8-425d-aec6-9d804880a795",
   "metadata": {},
   "source": [
    "### 2. 시간평균"
   ]
  },
  {
   "cell_type": "code",
   "execution_count": 22,
   "id": "31ecdd9b-362e-4d9a-9176-9cbbfb1aec19",
   "metadata": {},
   "outputs": [],
   "source": [
    "# Average Data\n",
    "root = get_project_root()\n",
    "folder_root = os.path.join(root, 'data_final_keei')\n",
    "file_name = os.path.join(folder_root, 'Datast Hours 20221118 3kW 300W 18kW.xlsx')\n",
    "df_avg_hour = pd.read_excel(file_name, sheet_name=1)"
   ]
  },
  {
   "cell_type": "code",
   "execution_count": 23,
   "id": "e09c3d26-c1ed-4125-9998-a2cd066c3f6f",
   "metadata": {},
   "outputs": [
    {
     "name": "stdout",
     "output_type": "stream",
     "text": [
      "<class 'pandas.core.frame.DataFrame'>\n",
      "RangeIndex: 8760 entries, 0 to 8759\n",
      "Data columns (total 12 columns):\n",
      " #   Column  Non-Null Count  Dtype  \n",
      "---  ------  --------------  -----  \n",
      " 0   연도      8760 non-null   int64  \n",
      " 1   월       8760 non-null   int64  \n",
      " 2   일       8760 non-null   int64  \n",
      " 3   시간      8760 non-null   int64  \n",
      " 4   발전-미설치  0 non-null      float64\n",
      " 5   발전-설치   8760 non-null   float64\n",
      " 6   소비-미설치  8760 non-null   float64\n",
      " 7   소비-설치   8760 non-null   float64\n",
      " 8   수전-미설치  8760 non-null   float64\n",
      " 9   수전-설치   8760 non-null   float64\n",
      " 10  잉여-미설치  0 non-null      float64\n",
      " 11  잉여-설치   8760 non-null   float64\n",
      "dtypes: float64(8), int64(4)\n",
      "memory usage: 821.4 KB\n"
     ]
    }
   ],
   "source": [
    "df_avg_hour.info()"
   ]
  },
  {
   "cell_type": "markdown",
   "id": "57e6a8fb-a1a1-4ac0-adc8-cf957429a2ca",
   "metadata": {},
   "source": [
    "<hr>"
   ]
  },
  {
   "cell_type": "markdown",
   "id": "b22375c2-73ad-4e9c-94bc-d6c0e1edb363",
   "metadata": {},
   "source": [
    "### **주말 및 공휴일 추가**"
   ]
  },
  {
   "cell_type": "markdown",
   "id": "5d577366-ba67-4bcd-ba28-38f432b56ae8",
   "metadata": {},
   "source": [
    "#### 1. Rawdata : 사용자 별로 추가"
   ]
  },
  {
   "cell_type": "code",
   "execution_count": 25,
   "id": "64cef3fb-907b-470b-9705-24b3a5491618",
   "metadata": {},
   "outputs": [],
   "source": [
    "user_name = df_all_hour.owner.unique().tolist()\n",
    "weekend_result = []\n",
    "holiday_result = []\n",
    "\n",
    "for i in range(len(user_name)):\n",
    "    df_all_hour_filter = df_all_hour[df_all_hour.owner == user_name[i]]\n",
    "    u_year = df_all_hour_filter['연도'].unique()\n",
    "    \n",
    "    for y in u_year:\n",
    "        day_filter1 = df_all_hour_filter[df_all_hour_filter['연도'] == y]\n",
    "        u_month = day_filter1['월'].unique()\n",
    "\n",
    "        for m in u_month:\n",
    "            day_filter2 = day_filter1[day_filter1['월'] == m]\n",
    "            u_day = day_filter2['일'].unique()\n",
    "\n",
    "            for d in u_day:\n",
    "                day_filter3 = day_filter2[day_filter2['일'] == d]\n",
    "                u_hour = day_filter3['시간'].unique()\n",
    "                \n",
    "                for h in u_hour:\n",
    "                    day_filter4 = day_filter3[day_filter3['시간'] == h]\n",
    "                    \n",
    "                    if check_weekend(date(y, m, d)) == True:\n",
    "                        weekend_result.append(1)\n",
    "                    else:\n",
    "                        weekend_result.append(0)\n",
    "                    \n",
    "                    if check_holiday(date(y, m, d)) == True:\n",
    "                        holiday_result.append(1)\n",
    "                    else:\n",
    "                        holiday_result.append(0)\n",
    "                        \n",
    "df_all_hour['weekend'] = weekend_result\n",
    "df_all_hour['holiday'] = holiday_result"
   ]
  },
  {
   "cell_type": "markdown",
   "id": "5dcaf9dc-1151-4b50-ad08-f4e519aa09b0",
   "metadata": {},
   "source": [
    "#### 2. 시간평균 : 날짜 별로 추가"
   ]
  },
  {
   "cell_type": "code",
   "execution_count": 26,
   "id": "5ab856d4-56a0-4619-a94c-879c108142f5",
   "metadata": {},
   "outputs": [],
   "source": [
    "u_year = df_avg_hour['연도'].unique()\n",
    "weekend_result = []\n",
    "holiday_result = []\n",
    "    \n",
    "for y in u_year:\n",
    "    day_filter1 = df_avg_hour[df_avg_hour['연도'] == y]\n",
    "    u_month = day_filter1['월'].unique()\n",
    "\n",
    "    for m in u_month:\n",
    "        day_filter2 = day_filter1[day_filter1['월'] == m]\n",
    "        u_day = day_filter2['일'].unique()\n",
    "\n",
    "        for d in u_day:\n",
    "            day_filter3 = day_filter2[day_filter2['일'] == d]\n",
    "            u_hour = day_filter3['시간'].unique()\n",
    "                \n",
    "            for h in u_hour:\n",
    "                day_filter4 = day_filter3[day_filter3['시간'] == h]\n",
    "                    \n",
    "                if check_weekend(date(y, m, d)) == True:\n",
    "                    weekend_result.append(1)\n",
    "                else:\n",
    "                    weekend_result.append(0)\n",
    "                    \n",
    "                if check_holiday(date(y, m, d)) == True:\n",
    "                    holiday_result.append(1)\n",
    "                else:\n",
    "                    holiday_result.append(0)\n",
    "\n",
    "df_avg_hour['weekend'] = weekend_result\n",
    "df_avg_hour['holiday'] = holiday_result"
   ]
  },
  {
   "cell_type": "markdown",
   "id": "a0e37b57-2c54-425c-8a2e-1a613b9275f0",
   "metadata": {},
   "source": [
    "<hr>"
   ]
  },
  {
   "cell_type": "markdown",
   "id": "4d483daf-c216-48f0-8562-0e127acfa434",
   "metadata": {},
   "source": [
    "### **엑셀 저장**"
   ]
  },
  {
   "cell_type": "code",
   "execution_count": 30,
   "id": "51927cd1-5b94-4ffb-b299-9f732ae5790d",
   "metadata": {},
   "outputs": [],
   "source": [
    "xlsx_name = os.path.join(folder_root, 'total result1.xlsx')\n",
    "df_all_hour.to_excel(xlsx_name, sheet_name='RawData', index=False)"
   ]
  },
  {
   "cell_type": "code",
   "execution_count": 31,
   "id": "75792d5f-5655-4e5f-a92b-b2b0f0449ab1",
   "metadata": {},
   "outputs": [],
   "source": [
    "xlsx_name2 = os.path.join(folder_root, 'total result2.xlsx')\n",
    "df_avg_hour.to_excel(xlsx_name2, sheet_name='시간평균', index=False)"
   ]
  }
 ],
 "metadata": {
  "kernelspec": {
   "display_name": "Python 3 (ipykernel)",
   "language": "python",
   "name": "python3"
  },
  "language_info": {
   "codemirror_mode": {
    "name": "ipython",
    "version": 3
   },
   "file_extension": ".py",
   "mimetype": "text/x-python",
   "name": "python",
   "nbconvert_exporter": "python",
   "pygments_lexer": "ipython3",
   "version": "3.9.13"
  },
  "toc-autonumbering": false,
  "toc-showcode": false,
  "toc-showmarkdowntxt": true
 },
 "nbformat": 4,
 "nbformat_minor": 5
}
